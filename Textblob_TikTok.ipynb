{
 "cells": [
  {
   "cell_type": "code",
   "execution_count": 1,
   "id": "c413256b-854f-44b1-8564-bcea591dcbd4",
   "metadata": {},
   "outputs": [],
   "source": [
    "import pandas as pd\n",
    "from textblob import TextBlob\n",
    "import matplotlib.pyplot as plt\n",
    "from matplotlib.backends.backend_pdf import PdfPages\n",
    "import seaborn as sns\n",
    "from wordcloud import WordCloud\n",
    "from nrclex import NRCLex"
   ]
  },
  {
   "cell_type": "code",
   "execution_count": 2,
   "id": "0256ca46-cb5d-4241-a2dd-3561173ac410",
   "metadata": {},
   "outputs": [],
   "source": [
    "# Set larger font sizes for all plot elements\n",
    "plt.rcParams.update({'font.size': 14})"
   ]
  },
  {
   "cell_type": "code",
   "execution_count": 3,
   "id": "65b96960-5fd7-4aae-acd2-186ede41cb71",
   "metadata": {},
   "outputs": [],
   "source": [
    "# Load the dataset- a CSV file - with a 'Lemmatized_Comments' column\n",
    "df = pd.read_csv(r'C:\\Users\\paris\\OneDrive\\thesis\\collect data\\Analysis\\data processing\\Cleaned_TikTok_comments3.csv')[['Lemmatized_Comments']]"
   ]
  },
  {
   "cell_type": "code",
   "execution_count": 4,
   "id": "bdcec1ce-ada8-4a45-aaaa-e4a60da0d652",
   "metadata": {},
   "outputs": [
    {
     "name": "stdout",
     "output_type": "stream",
     "text": [
      "                                 Lemmatized_Comments  polarity\n",
      "0  jojoba oil instead olive oil jojoba mean clean...   -0.3125\n",
      "1                               throw washer after ?    0.0000\n",
      "2     magic makeup eraser towel last year need water    0.2500\n",
      "3                                makeup eraser cloth    0.0000\n",
      "4      esthetician try almond oil jojoba oil instead    0.0000\n"
     ]
    }
   ],
   "source": [
    "# Function to detect polarity using TextBlob\n",
    "def detect_polarity(comment):\n",
    "    if isinstance(comment, str):  # Ensure the input is a string\n",
    "        blob = TextBlob(comment)\n",
    "        return blob.sentiment.polarity\n",
    "    return None  # Return None for invalid inputs\n",
    "\n",
    "# Apply the polarity detection function to the comments\n",
    "df['polarity'] = df['Lemmatized_Comments'].apply(detect_polarity)\n",
    "\n",
    "df['TextBlob_polarity'] = df['polarity'].apply(lambda x: 'positive' if x > 0 else 'negative' if x < 0 else 'neutral')\n",
    "\n",
    "# Display the updated DataFrame\n",
    "print(df[['Lemmatized_Comments', 'polarity']].head())\n"
   ]
  },
  {
   "cell_type": "code",
   "execution_count": 5,
   "id": "278a945c-b8f2-4ea7-be08-d06c927d2c8f",
   "metadata": {},
   "outputs": [
    {
     "name": "stdout",
     "output_type": "stream",
     "text": [
      "                                 Lemmatized_Comments  polarity  \\\n",
      "0  jojoba oil instead olive oil jojoba mean clean...   -0.3125   \n",
      "1                               throw washer after ?    0.0000   \n",
      "2     magic makeup eraser towel last year need water    0.2500   \n",
      "3                                makeup eraser cloth    0.0000   \n",
      "4      esthetician try almond oil jojoba oil instead    0.0000   \n",
      "\n",
      "  TextBlob_polarity  \n",
      "0          negative  \n",
      "1           neutral  \n",
      "2          positive  \n",
      "3           neutral  \n",
      "4           neutral  \n"
     ]
    }
   ],
   "source": [
    "df['TextBlob_polarity'] = df['polarity'].apply(lambda x: 'positive' if x > 0 else 'negative' if x < 0 else 'neutral')\n",
    "print(df[['Lemmatized_Comments', 'polarity', 'TextBlob_polarity']].head())\n"
   ]
  },
  {
   "cell_type": "code",
   "execution_count": 6,
   "id": "16a8c98d-9668-4480-8d5b-3a3800c0650d",
   "metadata": {},
   "outputs": [
    {
     "name": "stdout",
     "output_type": "stream",
     "text": [
      "Two PDF files created: 'TextBlob_polarity_histogram_TikTok.pdf' and 'TextBlob_polarity_bar_chart_Tiktok.pdf'\n",
      "                                 Lemmatized_Comments  Polarity  \\\n",
      "0  jojoba oil instead olive oil jojoba mean clean...   -0.3125   \n",
      "1                               throw washer after ?    0.0000   \n",
      "2     magic makeup eraser towel last year need water    0.2500   \n",
      "3                                makeup eraser cloth    0.0000   \n",
      "4      esthetician try almond oil jojoba oil instead    0.0000   \n",
      "\n",
      "  TextBlob_polarity  \n",
      "0          negative  \n",
      "1           neutral  \n",
      "2          positive  \n",
      "3           neutral  \n",
      "4           neutral  \n"
     ]
    }
   ],
   "source": [
    "# Safe function for sentiment analysis\n",
    "def safe_get_sentiment(text):\n",
    "    try:\n",
    "        if isinstance(text, str):  # Ensure input is a string\n",
    "            return TextBlob(text).sentiment.polarity  # Extract only polarity\n",
    "    except Exception as e:\n",
    "        print(f\"Error processing text: {text} - {e}\")\n",
    "    return 0.0  # Default polarity for invalid inputs\n",
    "\n",
    "# Function to categorize sentiment based on polarity\n",
    "def categorize_sentiment(polarity):\n",
    "    if polarity > 0:\n",
    "        return 'positive'\n",
    "    elif polarity < 0:\n",
    "        return 'negative'\n",
    "    else:\n",
    "        return 'neutral'\n",
    "\n",
    "# Apply sentiment analysis\n",
    "df['Polarity'] = df['Lemmatized_Comments'].apply(safe_get_sentiment)\n",
    "df['TextBlob_polarity'] = df['Polarity'].apply(categorize_sentiment)\n",
    "\n",
    "# Save visualizations as PDFs\n",
    "with PdfPages('TextBlob_polarity_histogram_TikTok_2.pdf') as pdf:\n",
    "    plt.figure(figsize=(8, 6))\n",
    "    plt.hist(df['Polarity'], bins=20, color='blue', edgecolor='black')\n",
    "    plt.xlabel('Polarity')\n",
    "    plt.ylabel('Frequency')\n",
    "    plt.grid(True)\n",
    "    plt.tight_layout()\n",
    "    pdf.savefig()\n",
    "    plt.close()\n",
    "\n",
    "with PdfPages('TextBlob_polarity_bar_chart_TikTok_2.pdf') as pdf:\n",
    "    plt.figure(figsize=(8, 6))\n",
    "    df['TextBlob_polarity'].value_counts().plot(kind='bar', color=['green', 'red', 'gray'], edgecolor='black')\n",
    "    plt.xlabel('polarity Category')\n",
    "    plt.ylabel('Frequency')\n",
    "    plt.tight_layout()\n",
    "    plt.grid(axis='y')\n",
    "    pdf.savefig()\n",
    "    plt.close()\n",
    "\n",
    "print(\"Two PDF files created: 'TextBlob_polarity_histogram_TikTok.pdf' and 'TextBlob_polarity_bar_chart_Tiktok.pdf'\")\n",
    "print(df[['Lemmatized_Comments', 'Polarity', 'TextBlob_polarity']].head())\n",
    "\n"
   ]
  },
  {
   "cell_type": "code",
   "execution_count": 7,
   "id": "e036f57e-0a01-4f71-a143-8ff2905ed355",
   "metadata": {},
   "outputs": [
    {
     "name": "stderr",
     "output_type": "stream",
     "text": [
      "C:\\Users\\paris\\AppData\\Local\\Temp\\ipykernel_5536\\3702071931.py:39: FutureWarning: \n",
      "\n",
      "Passing `palette` without assigning `hue` is deprecated and will be removed in v0.14.0. Assign the `y` variable to `hue` and set `legend=False` for the same effect.\n",
      "\n",
      "  bar_plot = sns.barplot(x='Engagement', y='TextBlob_Emotion', data=emotion_engagement, palette='viridis')\n"
     ]
    },
    {
     "name": "stdout",
     "output_type": "stream",
     "text": [
      "Plot saved successfully as 'TextBlob_emotion_plot_TikTook.png'.\n"
     ]
    }
   ],
   "source": [
    "# Ensure no missing values in the input column\n",
    "df = df.dropna(subset=['Lemmatized_Comments'])\n",
    "\n",
    "# Function to classify detailed emotions based on TextBlob's sentiment analysis\n",
    "def TextBlob_emotion_classification(text):\n",
    "    analysis = TextBlob(text)\n",
    "    polarity = analysis.sentiment.polarity\n",
    "    subjectivity = analysis.sentiment.subjectivity\n",
    "\n",
    "    if polarity > 0.5:\n",
    "        return 'Joyful'\n",
    "    elif polarity > 0.1:\n",
    "        if subjectivity > 0.5:\n",
    "            return 'Trust'\n",
    "        else:\n",
    "            return 'Content'\n",
    "    elif polarity < -0.1:\n",
    "        if subjectivity > 0.5:\n",
    "            return 'Disappointment'\n",
    "        else:\n",
    "            return 'Discontent'\n",
    "    elif polarity < -0.5:\n",
    "        return 'Angry'\n",
    "    else:\n",
    "        return 'Neutral'\n",
    "\n",
    "# Apply the detailed emotion classification\n",
    "df['TextBlob_Emotion'] = df['Lemmatized_Comments'].apply(TextBlob_emotion_classification)\n",
    "\n",
    "# Ensure an Engagement column exists; if not, create a dummy Engagement column for visualization\n",
    "if 'Engagement' not in df.columns:\n",
    "    df['Engagement'] = 1  # Assign a default value of 1 for all rows\n",
    "\n",
    "# Aggregate total engagement by detailed emotions\n",
    "emotion_engagement = df.groupby('TextBlob_Emotion')['Engagement'].sum().reset_index()\n",
    "\n",
    "# Creating the visualization\n",
    "plt.figure(figsize=(12, 8))\n",
    "bar_plot = sns.barplot(x='Engagement', y='TextBlob_Emotion', data=emotion_engagement, palette='viridis')\n",
    "\n",
    "\n",
    "plt.xlabel('Frequency', fontsize=14)\n",
    "plt.ylabel('Emotion', fontsize=14)\n",
    "plt.xticks(fontsize=14)\n",
    "plt.yticks(fontsize=14)\n",
    "plt.grid(True, linestyle='--', alpha=0.6)\n",
    "plt.tight_layout()\n",
    "\n",
    "# Save the plot to a file\n",
    "plt.savefig('TextBlob_emotion_plot_TikTook_2.png')\n",
    "plt.close()  # Close the plot display to save memory\n",
    "\n",
    "print(\"Plot saved successfully as 'TextBlob_emotion_plot_TikTook.png'.\")\n"
   ]
  },
  {
   "cell_type": "code",
   "execution_count": 8,
   "id": "d9e3c183-9140-434a-8d52-cc280c151190",
   "metadata": {},
   "outputs": [
    {
     "name": "stdout",
     "output_type": "stream",
     "text": [
      "                                    Lemmatized_Comments TextBlob_polarity  \\\n",
      "0     jojoba oil instead olive oil jojoba mean clean...          negative   \n",
      "1                                  throw washer after ?           neutral   \n",
      "2        magic makeup eraser towel last year need water          positive   \n",
      "3                                   makeup eraser cloth           neutral   \n",
      "4         esthetician try almond oil jojoba oil instead           neutral   \n",
      "...                                                 ...               ...   \n",
      "2254                                           love elf          positive   \n",
      "2255                                          thank yes           neutral   \n",
      "2256                                           pacifica           neutral   \n",
      "2257       elf concealer forever chemical stay away elf           neutral   \n",
      "2258                   could please share alternative ?           neutral   \n",
      "\n",
      "     TextBlob_Emotion  \n",
      "0      Disappointment  \n",
      "1             Neutral  \n",
      "2               Trust  \n",
      "3             Neutral  \n",
      "4             Neutral  \n",
      "...               ...  \n",
      "2254            Trust  \n",
      "2255          Neutral  \n",
      "2256          Neutral  \n",
      "2257          Neutral  \n",
      "2258          Neutral  \n",
      "\n",
      "[2259 rows x 3 columns]\n"
     ]
    }
   ],
   "source": [
    "print(df[['Lemmatized_Comments', 'TextBlob_polarity', 'TextBlob_Emotion']])"
   ]
  },
  {
   "cell_type": "code",
   "execution_count": 9,
   "id": "b7bc13cd-2db6-4bcd-989d-81c1d88b7098",
   "metadata": {},
   "outputs": [],
   "source": [
    "df.to_csv(r'C:\\Users\\paris\\OneDrive\\thesis\\collect data\\TextBlob_polarity_Emotion_Analysis26.csv', index=False)"
   ]
  },
  {
   "cell_type": "code",
   "execution_count": 10,
   "id": "7c071caf-f711-444f-8b88-80071feca882",
   "metadata": {},
   "outputs": [
    {
     "name": "stderr",
     "output_type": "stream",
     "text": [
      "C:\\Users\\paris\\AppData\\Local\\Temp\\ipykernel_5536\\2033648152.py:3: FutureWarning: \n",
      "\n",
      "Passing `palette` without assigning `hue` is deprecated and will be removed in v0.14.0. Assign the `y` variable to `hue` and set `legend=False` for the same effect.\n",
      "\n",
      "  sns.barplot(x='Engagement', y='TextBlob_Emotion', data=emotion_engagement, palette='viridis')\n"
     ]
    },
    {
     "name": "stdout",
     "output_type": "stream",
     "text": [
      "Bar chart saved successfully as 'TextBlob_emotion_bar_chart_TttikTok.png'.\n"
     ]
    }
   ],
   "source": [
    "# Bar Chart for TextBlob_Emotion\n",
    "plt.figure(figsize=(12, 8))\n",
    "sns.barplot(x='Engagement', y='TextBlob_Emotion', data=emotion_engagement, palette='viridis')\n",
    "\n",
    "\n",
    "plt.xlabel('Frequency', fontsize=14)\n",
    "plt.ylabel('Emotion', fontsize=14)\n",
    "plt.xticks(fontsize=14)\n",
    "plt.yticks(fontsize=14)\n",
    "plt.grid(True, linestyle='--', alpha=0.6)\n",
    "plt.tight_layout()\n",
    "\n",
    "# Save the plot to a file\n",
    "plt.savefig('TextBlob_emotion_bar_chart_Tttiktok.png')\n",
    "plt.close()\n",
    "\n",
    "print(\"Bar chart saved successfully as 'TextBlob_emotion_bar_chart_TttikTok.png'.\")\n"
   ]
  },
  {
   "cell_type": "code",
   "execution_count": 11,
   "id": "7c75b616-2c7c-42e6-a4d7-fbad9ae1ca4b",
   "metadata": {},
   "outputs": [
    {
     "name": "stdout",
     "output_type": "stream",
     "text": [
      "Bar chart saved successfully as 'TextBlob_emotion_bar_chart_TikTok.png'.\n"
     ]
    }
   ],
   "source": [
    "# Prepare data for the bar chart\n",
    "emotions = emotion_engagement['TextBlob_Emotion']\n",
    "counts = emotion_engagement['Engagement']\n",
    "\n",
    "# Create the bar chart\n",
    "plt.figure(figsize=(10, 6))\n",
    "plt.bar(emotions, counts, color='skyblue')\n",
    "plt.title('TextBlob Emotion Analysis on TikTok', fontsize=14)\n",
    "plt.xlabel('Emotions', fontsize=14)\n",
    "plt.ylabel('Frequency', fontsize=14)\n",
    "plt.xticks(rotation=45, ha='right', fontsize=14)  # Rotate x-axis labels\n",
    "plt.tight_layout()\n",
    "\n",
    "# Save the chart to a file\n",
    "plt.savefig('TextBlob_emotion_bar_chart_TikTok_2.png')\n",
    "plt.close()\n",
    "\n",
    "print(\"Bar chart saved successfully as 'TextBlob_emotion_bar_chart_TikTok.png'.\")\n"
   ]
  },
  {
   "cell_type": "code",
   "execution_count": 12,
   "id": "69c9d260-fb5c-4408-a149-ac0ff07beb4b",
   "metadata": {},
   "outputs": [
    {
     "name": "stdout",
     "output_type": "stream",
     "text": [
      "Pie chart saved successfully as 'TextBlob_emotion_pie_chart__TikTok.png'.\n"
     ]
    }
   ],
   "source": [
    "# Pie Chart for TextBlob_Emotion\n",
    "\n",
    "# Set larger font sizes for all plot elements\n",
    "plt.rcParams.update({'font.size': 14})\n",
    "\n",
    "# Custom colors\n",
    "custom_colors = {\n",
    "    'Joyful': 'gold',\n",
    "    'Trust': 'purple',\n",
    "    'Content': 'pink',\n",
    "    'Neutral': 'skyblue',\n",
    "    'Discontent': 'gray',\n",
    "    'Disappointment': '#D2B48C',  # Light brown (hex code for \"tan\")\n",
    "    'Anger': 'red'\n",
    "}\n",
    "\n",
    " #Map colors to emotions\n",
    "colors = [custom_colors[emotion] for emotion in emotion_engagement['TextBlob_Emotion']]\n",
    "\n",
    "plt.figure(figsize=(8, 8))\n",
    "plt.pie(\n",
    "    emotion_engagement['Engagement'],\n",
    "    labels=emotion_engagement['TextBlob_Emotion'],\n",
    "    autopct='%1.1f%%',\n",
    "    startangle=140,\n",
    "    colors= colors,  \n",
    ")\n",
    "\n",
    "# Add title\n",
    "plt.title(' TextBlob Emotion Analysis on TikTok', fontsize=14)\n",
    "\n",
    "# Save the plot\n",
    "plt.savefig('TextBlob_emotion_pie_chart_TikTok_2.png')\n",
    "plt.close()\n",
    "\n",
    "print(\"Pie chart saved successfully as 'TextBlob_emotion_pie_chart__TikTok.png'.\")\n"
   ]
  },
  {
   "cell_type": "code",
   "execution_count": 13,
   "id": "60bd9d0a-f764-4df0-b409-3044a90ec796",
   "metadata": {},
   "outputs": [
    {
     "name": "stdout",
     "output_type": "stream",
     "text": [
      "Word cloud saved successfully as 'TextBlob_emotion_wordcloud__TikTok.png'.\n"
     ]
    }
   ],
   "source": [
    "# Generate text data for word cloud\n",
    "text = ' '.join(df['TextBlob_Emotion'])\n",
    "\n",
    "# Create the word cloud\n",
    "wordcloud = WordCloud(\n",
    "    width=800, height=400, background_color='white', colormap='magma'\n",
    ").generate(text)\n",
    "\n",
    "# Plot the word cloud\n",
    "plt.figure(figsize=(10, 6))\n",
    "plt.imshow(wordcloud, interpolation='bilinear')\n",
    "plt.axis('off')  # Turn off axis\n",
    "plt.title('Word Cloud: TextBlob Emotions', fontsize=16)\n",
    "\n",
    "# Save the word cloud to a file\n",
    "plt.savefig('TextBlob_emotion_wordcloud_TikTok_2.png')\n",
    "plt.close()\n",
    "\n",
    "print(\"Word cloud saved successfully as 'TextBlob_emotion_wordcloud__TikTok.png'.\")\n"
   ]
  },
  {
   "cell_type": "code",
   "execution_count": 19,
   "id": "5ba6d965-27db-4ec0-ab0e-a2a805848af8",
   "metadata": {},
   "outputs": [
    {
     "name": "stdout",
     "output_type": "stream",
     "text": [
      "PDF file with the heatmap of emotion analysis results has been created.\n"
     ]
    }
   ],
   "source": [
    "# Define your keywords\n",
    "keywords = [\n",
    "    'ethical', 'green', 'zero', 'organic', 'microfiber', 'fair', 'testing', 'allergic', 'harmful', 'synthetic', 'green wash', \n",
    "    'health', 'environment', 'vegan', 'toxins', 'wasteful', 'licensed', 'healthy', 'energyisnt', 'recycle', 'alternative', \n",
    "    'biochem', 'greenwashed', 'environmentally', 'ecofriendly', 'vegancruelty', 'micatysm', 'animal', 'greenwashing', 'sustainably', \n",
    "    'sustainable', 'compostable', 'bacterial', 'bio', 'fossilbased', 'refill', 'ecotools', 'costly', 'fossil', 'microbe', 'recycled', \n",
    "    'costa', 'fairyeah', 'fairy', 'cruelty', 'fragranced', 'sustainability', 'refillables', 'bioplastics', 'refillless', 'energy', \n",
    "    'plant', 'wasteunsustainable', 'chemical', 'toxic', 'cost', 'test', 'climate', 'packaging', 'source', 'voiceless child', 'microbeads', \n",
    "    'toxin', 'crueltyfreeethical', 'bacteria', 'circular', 'planet', 'fragrance', 'conscious', 'verified', 'safe', 'ingredient', 'child mining', \n",
    "    'biore', 'consumerism', 'bioplastic', 'refillable', 'animals', 'micro', 'recycleable', 'economy', 'overconsumption', 'earthfriendly', \n",
    "    'reusable', 'plastic', 'bioderma', 'earth', 'child mine', 'reduce', 'ethically', 'illegal', 'greener', 'preservative', 'waste', 'verify', \n",
    "    'hard job mine', 'license', 'recyclable', 'package', 'crueltyfree', 'heavy metal', 'affordable', 'sustaintable', 'eco', 'hire child', \n",
    "    'planeta', 'microfibre', 'unsanitized', 'micah', 'mica', 'poison', 'safety', 'natural', 'child labor', 'emission', 'biodegradable', \n",
    "    'reuse', 'reduces', 'leap bunny', 'biobased'\n",
    "]\n",
    "\n",
    "# Initialize a dictionary to store results\n",
    "keyword_emotions = {keyword: [] for keyword in keywords}\n",
    "\n",
    "# Function to find keywords in a specific column and analyze emotions\n",
    "def analyze_caption_emotions(caption):\n",
    "    for keyword in keywords:\n",
    "        if keyword in caption.lower():  # Check if the keyword is in the caption\n",
    "            text_object = NRCLex(caption)\n",
    "            emotion_dict = text_object.raw_emotion_scores\n",
    "            if emotion_dict:  # If emotions are found, add them to the dictionary\n",
    "                keyword_emotions[keyword].append(emotion_dict)\n",
    "\n",
    "# Apply the function to input column\n",
    "df['Lemmatized_Comments'].apply(analyze_caption_emotions)\n",
    "\n",
    "# Prepare data for visualization\n",
    "data_for_visualization = {\n",
    "    keyword: pd.DataFrame(emotions).mean().to_dict()\n",
    "    for keyword, emotions in keyword_emotions.items() if emotions\n",
    "}\n",
    "\n",
    "# Convert to DataFrame for easier manipulation and visualization\n",
    "emotion_df = pd.DataFrame(data_for_visualization).fillna(0).T  # Transpose to get keywords as rows\n",
    "emotion_df.reset_index(inplace=True)\n",
    "emotion_df.rename(columns={'index': 'Keyword'}, inplace=True)\n",
    "\n",
    "# Plotting heatmap for all keywords\n",
    "with PdfPages('emotion_heatmap_results_TikTok.pdf') as pdf:\n",
    "    plt.figure(figsize=(15, 20))\n",
    "    sns.heatmap(\n",
    "        emotion_df.iloc[:, 1:],  # Exclude keyword column for heatmap\n",
    "        annot=True, fmt=\".2f\", cmap='coolwarm', \n",
    "        xticklabels=emotion_df.columns[1:], \n",
    "        yticklabels=emotion_df['Keyword']\n",
    "    )\n",
    "    plt.xlabel('Emotions', fontsize=14)\n",
    "    plt.ylabel('Keywords', fontsize=14)\n",
    "    plt.tight_layout()\n",
    "    pdf.savefig()  # Save the heatmap to a PDF file\n",
    "    plt.close()\n",
    "\n",
    "print(\"PDF file with the heatmap of emotion analysis results has been created.\")\n"
   ]
  },
  {
   "cell_type": "code",
   "execution_count": null,
   "id": "d276b6a4-3908-4768-a8c3-83bdb8f21486",
   "metadata": {},
   "outputs": [],
   "source": []
  }
 ],
 "metadata": {
  "kernelspec": {
   "display_name": "Python 3 (ipykernel)",
   "language": "python",
   "name": "python3"
  },
  "language_info": {
   "codemirror_mode": {
    "name": "ipython",
    "version": 3
   },
   "file_extension": ".py",
   "mimetype": "text/x-python",
   "name": "python",
   "nbconvert_exporter": "python",
   "pygments_lexer": "ipython3",
   "version": "3.12.4"
  }
 },
 "nbformat": 4,
 "nbformat_minor": 5
}
