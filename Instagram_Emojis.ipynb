{
 "cells": [
  {
   "cell_type": "code",
   "execution_count": 2,
   "id": "eddf77c5-00e6-42b1-9beb-8fe38b98d895",
   "metadata": {},
   "outputs": [
    {
     "name": "stdout",
     "output_type": "stream",
     "text": [
      "Collecting emoji\n",
      "  Downloading emoji-2.14.0-py3-none-any.whl.metadata (5.7 kB)\n",
      "Downloading emoji-2.14.0-py3-none-any.whl (586 kB)\n",
      "   ---------------------------------------- 0.0/586.9 kB ? eta -:--:--\n",
      "   ---------------------------------------- 586.9/586.9 kB 6.9 MB/s eta 0:00:00\n",
      "Installing collected packages: emoji\n",
      "Successfully installed emoji-2.14.0\n"
     ]
    }
   ],
   "source": [
    "!pip install emoji"
   ]
  },
  {
   "cell_type": "code",
   "execution_count": 31,
   "id": "c089f8e8-3586-4353-93f5-f1030ebbecd8",
   "metadata": {},
   "outputs": [],
   "source": [
    "import re\n",
    "import pandas as pd\n",
    "import emoji"
   ]
  },
  {
   "cell_type": "code",
   "execution_count": 32,
   "id": "f8b7eb1d-505b-418a-9f2a-6b715d4d3f14",
   "metadata": {},
   "outputs": [],
   "source": [
    "# Load the CSV file and select only the 'Comments' column\n",
    "data = pd.read_csv(r'C:\\Users\\paris\\OneDrive\\thesis\\collect data\\Instagram-comments.csv')[['Comments']]"
   ]
  },
  {
   "cell_type": "code",
   "execution_count": 33,
   "id": "9699a9bb-4d4c-4f36-a6d7-dfcd59669e26",
   "metadata": {},
   "outputs": [
    {
     "name": "stdout",
     "output_type": "stream",
     "text": [
      "                                            Comments\n",
      "0  So lush and looks very nourishing.. Perfect fo...\n",
      "1                                        So pretty 😍\n",
      "2                                                 😍😍\n",
      "3                                   Labour of love 😍\n",
      "4                                                😍😍😍\n"
     ]
    }
   ],
   "source": [
    "print(data.head())"
   ]
  },
  {
   "cell_type": "code",
   "execution_count": 34,
   "id": "0d7fcb88-67fa-4e56-b16d-85d98fc81fc2",
   "metadata": {},
   "outputs": [],
   "source": [
    "\n",
    "#Step 1: Define a function to extract emojis\n",
    "def extract_emojis(text):\n",
    " if isinstance(text, str):  # Check if the input is a string  \n",
    "    emoji_list = [char for char in text if char in emoji.EMOJI_DATA]\n",
    " # Check if there are any valid words after filtering\n",
    "    if len(emoji_list) == 0:\n",
    "       return ''  # Return an empty string for non-meaningful comments\n",
    "# Join words back into one string\n",
    "    return ' '.join(emoji_list)\n",
    " else:\n",
    "     return ''  # Return an empty string for non-string inputs"
   ]
  },
  {
   "cell_type": "code",
   "execution_count": 35,
   "id": "52ca78c6-51e5-4a5a-adfc-1de1dfe8303f",
   "metadata": {},
   "outputs": [
    {
     "name": "stdout",
     "output_type": "stream",
     "text": [
      "                                              Comments Emojis\n",
      "0    So lush and looks very nourishing.. Perfect fo...      💖\n",
      "1                                          So pretty 😍      😍\n",
      "2                                                   😍😍    😍 😍\n",
      "3                                     Labour of love 😍      😍\n",
      "4                                                  😍😍😍  😍 😍 😍\n",
      "..                                                 ...    ...\n",
      "494                              All the best brands 🩷      🩷\n",
      "495         @kelenthemelonn right?!?! We LOVE @lawless       \n",
      "496                         Woooo congrats, friends! ❤      ❤\n",
      "497                         Julep gluten free as well?       \n",
      "498   #LeapingBunnyCertified #CrueltyFree #julepbeauty       \n",
      "\n",
      "[499 rows x 2 columns]\n"
     ]
    }
   ],
   "source": [
    "\n",
    "# Apply the emoji extraction function\n",
    "data['Emojis'] = data['Comments'].apply(extract_emojis)\n",
    "print(data[['Comments', 'Emojis']])\n",
    "\n"
   ]
  },
  {
   "cell_type": "code",
   "execution_count": 36,
   "id": "1891b4e9-5264-4949-9bd0-2f2209d3624f",
   "metadata": {},
   "outputs": [],
   "source": [
    "# Step 2: Create a basic emoji sentiment dictionary\n",
    "emoji_sentiment = {\n",
    "    '😊': 'positive', '❤️': 'positive', '👍': 'positive', '😍': 'positive', '🫶': 'positive',\n",
    "    '🩷': 'positive', '🖤': 'positive', '💖': 'positive', '✨': 'positive', '👏': 'positive',\n",
    "    '♻️': 'positive', '🌿': 'positive', '💚': 'positive', '🌎': 'positive', '🔥': 'positive', \n",
    "    '🙌': 'positive', '🌱': 'positive', '🎉': 'positive', '😁': 'positive', '👌🏽': 'positive', \n",
    "    '🥰': 'positive', '🌳': 'positive', '🤗': 'positive', '💋': 'positive', '🤩': 'positive',\n",
    "    '😯': 'positive', '💙': 'positive', '🐰': 'positive', '💃🏽': 'positive',\n",
    "    \n",
    "    '😡': 'negative', '👎': 'negative', '😢': 'negative', '😠': 'negative', '😭': 'negative',\n",
    "    '💔': 'negative', '😒': 'negative', '😞': 'negative', '😕': 'negative', '😣': 'negative',\n",
    "    '😖': 'negative', '😩': 'negative', '😤': 'negative', '🤬': 'negative', '🙄': 'negative',\n",
    "    '🙇‍♀️': 'negative', '🤷🏽‍♀️': 'negative', '😬': 'negative',\n",
    "\n",
    "    '🤔': 'neutral', '😐': 'neutral', '😶': 'neutral', '😑': 'neutral', '🤨': 'neutral',\n",
    "    '😮': 'neutral', '😲': 'neutral', '🤯': 'neutral', '🤓': 'neutral', '🙈': 'neutral',\n",
    "    '😴': 'neutral', '🤫': 'neutral', '🤥': 'neutral', '🧐': 'neutral', \n",
    "}"
   ]
  },
  {
   "cell_type": "code",
   "execution_count": 37,
   "id": "341e7565-6c13-4df4-8a42-c8e337d15fbf",
   "metadata": {},
   "outputs": [
    {
     "name": "stdout",
     "output_type": "stream",
     "text": [
      "                                              Comments Emojis Emoji_Sentiment\n",
      "0    So lush and looks very nourishing.. Perfect fo...      💖        positive\n",
      "1                                          So pretty 😍      😍        positive\n",
      "2                                                   😍😍    😍 😍        positive\n",
      "3                                     Labour of love 😍      😍        positive\n",
      "4                                                  😍😍😍  😍 😍 😍        positive\n",
      "..                                                 ...    ...             ...\n",
      "494                              All the best brands 🩷      🩷        positive\n",
      "495         @kelenthemelonn right?!?! We LOVE @lawless                neutral\n",
      "496                         Woooo congrats, friends! ❤      ❤         neutral\n",
      "497                         Julep gluten free as well?                neutral\n",
      "498   #LeapingBunnyCertified #CrueltyFree #julepbeauty                neutral\n",
      "\n",
      "[499 rows x 3 columns]\n"
     ]
    }
   ],
   "source": [
    "# Step 3: Define a function to analyze sentiment based on emojis\n",
    "def emoji_sentiment_analysis(emoji_text):\n",
    "    sentiments = [emoji_sentiment.get(char, 'neutral') for char in emoji_text]\n",
    "    if 'positive' in sentiments:\n",
    "        return 'positive'\n",
    "    elif 'negative' in sentiments:\n",
    "        return 'negative'\n",
    "    else:\n",
    "        return 'neutral'\n",
    "\n",
    "# Apply sentiment analysis function to the extracted emojis\n",
    "data['Emoji_Sentiment'] = data['Emojis'].apply(emoji_sentiment_analysis)\n",
    "print(data[['Comments', 'Emojis', 'Emoji_Sentiment']])"
   ]
  },
  {
   "cell_type": "code",
   "execution_count": 38,
   "id": "c602eba0-e5dd-4f8b-bbd2-be118c747854",
   "metadata": {},
   "outputs": [],
   "source": [
    "data.to_csv(r'C:\\Users\\paris\\OneDrive\\thesis\\collect data\\Instagram_emoji_sentiment_analysis_polarity.csv', index=False)"
   ]
  },
  {
   "cell_type": "code",
   "execution_count": 39,
   "id": "1451d1a6-7e7b-4be5-a66e-8bdb1830e1bb",
   "metadata": {},
   "outputs": [],
   "source": [
    "# Step 4: Create an emoji-emotion dictionary\n",
    "emoji_emotion = {\n",
    "   \n",
    "    '😊': 'happy', '😁': 'happy', '😂': 'cheerful', '😆': 'cheerful', '😃': 'cheerful', '😄': 'cheerful', \n",
    "    '😍': 'love', '❤️': 'love', '😘': 'admiring', '😗': 'admiring', '💖': 'love',\n",
    "    '😡': 'angry', '😠': 'angry', '👿': 'angry', '🤬': 'angry', '😤': 'annoyed', '😩': 'sad', '😫': 'sad',\n",
    "    '👎': 'disappointed', '😢': 'sad', '😭': 'sad', '😞': 'sad', '😔': 'sad', '💔': 'sad',\n",
    "    '😕': 'confused', '🤔': 'thoughtful', '🤨': 'skeptical', '😐': 'neutral', '😑': 'skeptical',\n",
    "    '😒': 'unimpressed', '🙄': 'unimpressed', '😣': 'frustrated', '😖': 'frustrated',\n",
    "    '🫶': 'admiring', '😱': 'surprised', '😲': 'surprised', '😯': 'surprised', '🤯': 'shocked',\n",
    "    '😎': 'confident', '💪': 'confident', '👏': 'admiring', '🙌': 'admiring', '🎉': 'cheerful',\n",
    "    '🥳': 'cheerful', '💙': 'love', '💋': 'love', '✨': 'admiring', '🔥': 'admiring', '🤍': 'love',\n",
    "    '😬': 'awkward', '😳': 'embarrassed', '😅': 'nervous', '😰': 'nervous', '😥': 'embarrassed',\n",
    "    '🤩': 'excited', '🥰': 'loving', '🤗': 'love', '🌟': 'admiring', '👍': 'admiring', '💃': 'cheerful', \n",
    "    '💀': 'grim', '👻': 'playful', '👽': 'curious', '🙇‍♀️': 'frustrated', '🤷🏽‍♀️': 'frustrated',\n",
    "    '♻️': 'eco-friendly', '🌿': 'eco-friendly', '💚': 'eco-friendly', '🌎': 'eco-friendly',\n",
    "    '🌱': 'eco-friendly', '🌳': 'eco-friendly', '🐰': 'cruelty-free', '👌🏽': 'admiring', '🙌': 'admiring',\n",
    "    \n",
    "     \n",
    "    \n",
    "}"
   ]
  },
  {
   "cell_type": "code",
   "execution_count": 40,
   "id": "ad242b7f-9ed6-46b3-a177-ec4d08159018",
   "metadata": {},
   "outputs": [
    {
     "name": "stdout",
     "output_type": "stream",
     "text": [
      "                                              Comments Emojis  \\\n",
      "0    So lush and looks very nourishing.. Perfect fo...      💖   \n",
      "1                                          So pretty 😍      😍   \n",
      "2                                                   😍😍    😍 😍   \n",
      "3                                     Labour of love 😍      😍   \n",
      "4                                                  😍😍😍  😍 😍 😍   \n",
      "..                                                 ...    ...   \n",
      "494                              All the best brands 🩷      🩷   \n",
      "495         @kelenthemelonn right?!?! We LOVE @lawless          \n",
      "496                         Woooo congrats, friends! ❤      ❤   \n",
      "497                         Julep gluten free as well?          \n",
      "498   #LeapingBunnyCertified #CrueltyFree #julepbeauty          \n",
      "\n",
      "                           Emoji_Emotions  \n",
      "0                                  [love]  \n",
      "1                                  [love]  \n",
      "2                   [love, neutral, love]  \n",
      "3                                  [love]  \n",
      "4    [love, neutral, love, neutral, love]  \n",
      "..                                    ...  \n",
      "494                             [neutral]  \n",
      "495                                    []  \n",
      "496                             [neutral]  \n",
      "497                                    []  \n",
      "498                                    []  \n",
      "\n",
      "[499 rows x 3 columns]\n"
     ]
    }
   ],
   "source": [
    "# Step 5: Define a function to extract emotion based on emojis\n",
    "def emoji_feelings_analysis(emoji_text):\n",
    "    emotions = [emoji_emotion.get(char, 'neutral') for char in emoji_text]\n",
    "    return emotions\n",
    "\n",
    "# Apply emotion analysis to the extracted emojis\n",
    "data['Emoji_Emotions'] = data['Emojis'].apply(emoji_feelings_analysis)\n",
    "print(data[['Comments', 'Emojis', 'Emoji_Emotions']])"
   ]
  },
  {
   "cell_type": "code",
   "execution_count": 41,
   "id": "d52f479a-3b08-45df-ab94-debb6355cfd0",
   "metadata": {},
   "outputs": [
    {
     "name": "stdout",
     "output_type": "stream",
     "text": [
      "                                              Comments Emojis  \\\n",
      "0    So lush and looks very nourishing.. Perfect fo...      💖   \n",
      "1                                          So pretty 😍      😍   \n",
      "2                                                   😍😍    😍 😍   \n",
      "3                                     Labour of love 😍      😍   \n",
      "4                                                  😍😍😍  😍 😍 😍   \n",
      "..                                                 ...    ...   \n",
      "494                              All the best brands 🩷      🩷   \n",
      "495         @kelenthemelonn right?!?! We LOVE @lawless          \n",
      "496                         Woooo congrats, friends! ❤      ❤   \n",
      "497                         Julep gluten free as well?          \n",
      "498   #LeapingBunnyCertified #CrueltyFree #julepbeauty          \n",
      "\n",
      "                           Emoji_Emotions  \n",
      "0                                  [love]  \n",
      "1                                  [love]  \n",
      "2                   [love, neutral, love]  \n",
      "3                                  [love]  \n",
      "4    [love, neutral, love, neutral, love]  \n",
      "..                                    ...  \n",
      "494                             [neutral]  \n",
      "495                                    []  \n",
      "496                             [neutral]  \n",
      "497                                    []  \n",
      "498                                    []  \n",
      "\n",
      "[499 rows x 3 columns]\n"
     ]
    }
   ],
   "source": [
    "# Apply the emoji-feelings analysis\n",
    "data['Emoji_Emotions'] = data['Emojis'].apply(lambda text: [emoji_emotion.get(char, 'neutral') for char in text])\n",
    "\n",
    "# Displaying results for review\n",
    "print(data[['Comments', 'Emojis', 'Emoji_Emotions']])"
   ]
  },
  {
   "cell_type": "code",
   "execution_count": 42,
   "id": "67b2e8be-79bb-42ef-9984-6c07bc01e7f8",
   "metadata": {},
   "outputs": [],
   "source": [
    "data.to_csv(r'C:\\Users\\paris\\OneDrive\\thesis\\collect data\\Instagram_emoji_sentiment_analysis_feelings.csv', index=False)"
   ]
  },
  {
   "cell_type": "code",
   "execution_count": 5,
   "id": "a8fce8cc-f8a4-4bc3-8833-5db96e3c7483",
   "metadata": {},
   "outputs": [
    {
     "name": "stdout",
     "output_type": "stream",
     "text": [
      "Data with Emoji Sentiments and Emotions:\n",
      "    Emojis                          Emoji_Sentiments  \\\n",
      "0        💖                                [positive]   \n",
      "1        😍                                [positive]   \n",
      "2       😍😍                      [positive, positive]   \n",
      "3        😍                                [positive]   \n",
      "4      😍😍😍            [positive, positive, positive]   \n",
      "..     ...                                       ...   \n",
      "490     😍😍                      [positive, positive]   \n",
      "492   🙌🙌🙌🙌  [positive, positive, positive, positive]   \n",
      "493     😍💜                       [positive, neutral]   \n",
      "494      🩷                                [positive]   \n",
      "496      ❤                                 [neutral]   \n",
      "\n",
      "                   Emoji_Emotions  \n",
      "0                         [Trust]  \n",
      "1                         [Trust]  \n",
      "2                  [Trust, Trust]  \n",
      "3                         [Trust]  \n",
      "4           [Trust, Trust, Trust]  \n",
      "..                            ...  \n",
      "490                [Trust, Trust]  \n",
      "492  [Trust, Trust, Trust, Trust]  \n",
      "493              [Trust, Neutral]  \n",
      "494                     [Neutral]  \n",
      "496                     [Neutral]  \n",
      "\n",
      "[322 rows x 3 columns]\n",
      "\n",
      "Sentiment Counts:\n",
      "  Sentiment  Count\n",
      "0  positive    370\n",
      "1   neutral    216\n",
      "2  negative      2\n",
      "\n",
      "Summary of Emoji Sentiments and Emotions:\n",
      "          Emotion  Count\n",
      "0           Trust    358\n",
      "1         Neutral    198\n",
      "2          Joyful     29\n",
      "3  Disappointment      2\n",
      "4         Content      1\n"
     ]
    }
   ],
   "source": [
    "import re\n",
    "import pandas as pd\n",
    "import emoji\n",
    "from collections import Counter\n",
    "\n",
    "# Load the CSV file and select only the 'Comments' column\n",
    "data = pd.read_csv(r'C:\\Users\\paris\\OneDrive\\thesis\\collect data\\Instagram-comments.csv')[['Comments']]\n",
    "\n",
    "# Step 1: Define a function to extract emojis\n",
    "def extract_emojis(text):\n",
    "    if isinstance(text, str):  # Check if the input is a string\n",
    "        emoji_list = [char for char in text if char in emoji.EMOJI_DATA]\n",
    "        return ''.join(emoji_list)\n",
    "    return ''  # Return an empty string if the input is not a string\n",
    "\n",
    "# Apply the emoji extraction function\n",
    "data['Emojis'] = data['Comments'].apply(extract_emojis)\n",
    "\n",
    "# Filter out rows with no emojis\n",
    "data = data[data['Emojis'] != '']\n",
    "\n",
    "# Step 2: Define emoji sentiment and emotion dictionaries\n",
    "emoji_sentiment = {\n",
    "    '😊': 'positive', '❤️': 'positive', '👍': 'positive', '😍': 'positive', '🫶': 'positive',\n",
    "    '🩷': 'positive', '🖤': 'positive', '💖': 'positive', '✨': 'positive', '👏': 'positive',\n",
    "    '♻️': 'positive', '🌿': 'positive', '💚': 'positive', '🌎': 'positive', '🔥': 'positive', \n",
    "    '🙌': 'positive', '🌱': 'positive', '🎉': 'positive', '😁': 'positive', '👌🏽': 'positive', \n",
    "    '🥰': 'positive', '🌳': 'positive', '🤗': 'positive', '💋': 'positive', '🤩': 'positive',\n",
    "    '😯': 'positive', '💙': 'positive', '🐰': 'positive', '💃🏽': 'positive',\n",
    "    \n",
    "    '😡': 'negative', '👎': 'negative', '😢': 'negative', '😠': 'negative', '😭': 'negative',\n",
    "    '💔': 'negative', '😒': 'negative', '😞': 'negative', '😕': 'negative', '😣': 'negative',\n",
    "    '😖': 'negative', '😩': 'negative', '😤': 'negative', '🤬': 'negative', '🙄': 'negative',\n",
    "    '🙇‍♀️': 'negative', '🤷🏽‍♀️': 'negative', '😬': 'negative',\n",
    "\n",
    "    '🤔': 'neutral', '😐': 'neutral', '😶': 'neutral', '😑': 'neutral', '🤨': 'neutral',\n",
    "    '😮': 'neutral', '😲': 'neutral', '🤯': 'neutral', '🤓': 'neutral', '🙈': 'neutral',\n",
    "    '😴': 'neutral', '🤫': 'neutral', '🤥': 'neutral', '🧐': 'neutral', \n",
    "}\n",
    "\n",
    "emoji_emotion = {\n",
    "   '😊': 'Joyful', '😁': 'Joyful', '😂': 'Joyful', '😆': 'Joyful', '😃': 'Joyful', '😄': 'Joyful', \n",
    "    '😍': 'Trust', '❤️': 'Trust', '😘': 'Trust', '😗': 'Trust', '💖': 'Trust', '💔': 'Disappointment', \n",
    "    '😡': 'Anger', '😠': 'Anger', '👿': 'Anger', '🤬': 'Anger', '😤': 'Disappointment', '😐': 'Neutral', \n",
    "    '😒': 'Disappointment', '🙄': 'Disappointment', '😣': 'Disappointment', '😖': 'Disappointment',\n",
    "    '😩': 'Disappointment', '😫': 'Disappointment', '🫶': 'Trust', '👌🏽': 'Trust', '🙌': 'Trust', \n",
    "    '😱': 'Content', '😲': 'Content', '😯': 'Content', '🤯': 'Content',\n",
    "    '😎': 'Content', '💪': 'Content', '👏': 'Trust', '🙌': 'Trust', '🎉': 'Joyful', '🥳': 'Joyful',\n",
    "    '😬': 'Disappointment', '😳': 'Disappointment', '😅': 'Neutral', '😰': 'Disappointment', '😥': 'Disappointment',\n",
    "    '🤩': 'Trust', '🥰': 'Joyful', '🤗': 'Trust', '🌟': 'Trust', '👍': 'Trust', '💃': 'Joyful', \n",
    "    '♻️': 'Trust', '🌿': 'Trust', '💚': 'Trust', '🌎': 'Trust', '🌳': 'Trust',\n",
    "    '🌱': 'Trust', '🐰': 'Trust', '🙇‍♀️': 'Disappointment', '🤷🏽‍♀️': 'Disappointment',\n",
    "    '💙': 'Trust', '💋': 'Trust', '✨': 'Trust', '🔥': 'Trust', '🤍': 'Trust',\n",
    "    '💀': 'Anger', '👻': 'Neutral', '👽': 'Content', \n",
    "    }\n",
    "\n",
    "# Step 3: Sentiment and emotion analysis\n",
    "def emoji_sentiment_analysis(emoji_text):\n",
    "    return [emoji_sentiment.get(char, 'neutral') for char in emoji_text]\n",
    "\n",
    "def emoji_emotion_analysis(emoji_text):\n",
    "    return [emoji_emotion.get(char, 'Neutral') for char in emoji_text]\n",
    "\n",
    "data['Emoji_Sentiments'] = data['Emojis'].apply(emoji_sentiment_analysis)\n",
    "data['Emoji_Emotions'] = data['Emojis'].apply(emoji_emotion_analysis)\n",
    "\n",
    "# Step 4: Flatten and count the sentiments and emotions\n",
    "all_sentiments = [sentiment for sublist in data['Emoji_Sentiments'] for sentiment in sublist]\n",
    "all_emotions = [emotion for sublist in data['Emoji_Emotions'] for emotion in sublist]\n",
    "\n",
    "sentiment_counts = Counter(all_sentiments)\n",
    "emotion_counts = Counter(all_emotions)\n",
    "\n",
    "# Step 5: Create summary DataFrame\n",
    "summary_sentiment = pd.DataFrame.from_dict(sentiment_counts, orient='index', columns=['Count']).reset_index()\n",
    "summary_sentiment.rename(columns={'index': 'Sentiment'}, inplace=True)\n",
    "\n",
    "summary_emotion = pd.DataFrame.from_dict(emotion_counts, orient='index', columns=['Count']).reset_index()\n",
    "summary_emotion.rename(columns={'index': 'Emotion'}, inplace=True)\n",
    "\n",
    "# Display results\n",
    "print(\"Data with Emoji Sentiments and Emotions:\")\n",
    "print(data[['Emojis', 'Emoji_Sentiments', 'Emoji_Emotions']])\n",
    "print(\"\\nSentiment Counts:\")\n",
    "print(summary_sentiment)\n",
    "print(\"\\nSummary of Emoji Sentiments and Emotions:\")\n",
    "print(summary_emotion)\n"
   ]
  },
  {
   "cell_type": "code",
   "execution_count": 7,
   "id": "4f58efcb-fb9f-45f0-955e-1130626b9d0f",
   "metadata": {},
   "outputs": [],
   "source": [
    "# Save summary to CSV (optional)\n",
    "summary_emotion.to_csv(\"emoji_sentiment_emotion_summary.csv\", index=False)"
   ]
  },
  {
   "cell_type": "code",
   "execution_count": null,
   "id": "dceceaa6-585f-40c4-b9ae-9f546161f800",
   "metadata": {},
   "outputs": [],
   "source": []
  }
 ],
 "metadata": {
  "kernelspec": {
   "display_name": "Python 3 (ipykernel)",
   "language": "python",
   "name": "python3"
  },
  "language_info": {
   "codemirror_mode": {
    "name": "ipython",
    "version": 3
   },
   "file_extension": ".py",
   "mimetype": "text/x-python",
   "name": "python",
   "nbconvert_exporter": "python",
   "pygments_lexer": "ipython3",
   "version": "3.12.4"
  }
 },
 "nbformat": 4,
 "nbformat_minor": 5
}
