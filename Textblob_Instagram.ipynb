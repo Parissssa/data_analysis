{
 "cells": [
  {
   "cell_type": "code",
   "execution_count": 1,
   "id": "c413256b-854f-44b1-8564-bcea591dcbd4",
   "metadata": {},
   "outputs": [],
   "source": [
    "import pandas as pd\n",
    "from textblob import TextBlob\n",
    "import matplotlib.pyplot as plt\n",
    "from matplotlib.backends.backend_pdf import PdfPages\n",
    "import seaborn as sns\n",
    "from wordcloud import WordCloud\n",
    "from nrclex import NRCLex\n"
   ]
  },
  {
   "cell_type": "code",
   "execution_count": 2,
   "id": "522bc831-731d-49d4-8119-bebf2f7177ec",
   "metadata": {},
   "outputs": [],
   "source": [
    "# Set larger font sizes for all plot elements\n",
    "plt.rcParams.update({'font.size': 16})"
   ]
  },
  {
   "cell_type": "code",
   "execution_count": 3,
   "id": "c84bd0ea-6a1c-4153-93d2-fa9e7c3a7ca4",
   "metadata": {},
   "outputs": [],
   "source": [
    "# Load the dataset- a CSV file - with a 'Lemmatized_Comments' column\n",
    "df = pd.read_csv(r'C:\\Users\\paris\\OneDrive\\thesis\\collect data\\Analysis\\data processing\\Cleaned_Instagram-comments3.csv')[['Lemmatized_Comments']]"
   ]
  },
  {
   "cell_type": "code",
   "execution_count": 4,
   "id": "e036f57e-0a01-4f71-a143-8ff2905ed355",
   "metadata": {},
   "outputs": [
    {
     "name": "stdout",
     "output_type": "stream",
     "text": [
      "Two PDF files created: 'TextBlob_polarity_histogram_ins.pdf' and 'TextBlob_polarity_bar_chart_ins.pdf'\n",
      "                        Lemmatized_Comments  Polarity TextBlob_polarity\n",
      "0  look nourish perfect keep lips soft cool  0.483333          positive\n",
      "1                                    pretty  0.250000          positive\n",
      "2                               labour love  0.500000          positive\n",
      "3                                       wow  0.100000          positive\n",
      "4                           oh soooo pretty  0.250000          positive\n"
     ]
    }
   ],
   "source": [
    "# Safe function for sentiment analysis\n",
    "def safe_get_sentiment(text):\n",
    "    try:\n",
    "        if isinstance(text, str):  # Ensure input is a string\n",
    "            return TextBlob(text).sentiment.polarity  # Extract only polarity\n",
    "    except Exception as e:\n",
    "        print(f\"Error processing text: {text} - {e}\")\n",
    "    return 0.0  # Default polarity for invalid inputs\n",
    "\n",
    "# Function to categorize sentiment based on polarity\n",
    "def categorize_sentiment(polarity):\n",
    "    if polarity > 0:\n",
    "        return 'positive'\n",
    "    elif polarity < 0:\n",
    "        return 'negative'\n",
    "    else:\n",
    "        return 'neutral'\n",
    "\n",
    "# Apply sentiment analysis\n",
    "df['Polarity'] = df['Lemmatized_Comments'].apply(safe_get_sentiment)\n",
    "df['TextBlob_polarity'] = df['Polarity'].apply(categorize_sentiment)\n",
    "\n",
    "# Save visualizations as PDFs\n",
    "with PdfPages('TextBlob_polarity_histogram_ins_2.pdf') as pdf:\n",
    "    plt.figure(figsize=(8, 6))\n",
    "    plt.hist(df['Polarity'], bins=20, color='blue', edgecolor='black')\n",
    "    plt.xlabel('Polarity')\n",
    "    plt.ylabel('Frequency')\n",
    "    plt.grid(True)\n",
    "    plt.tight_layout()\n",
    "    pdf.savefig()\n",
    "    plt.close()\n",
    "\n",
    "with PdfPages('TextBlob_polarity_bar_chart_ins_2.pdf') as pdf:\n",
    "    plt.figure(figsize=(8, 6))\n",
    "    df['TextBlob_polarity'].value_counts().plot(kind='bar', color=['green', 'red', 'gray'], edgecolor='black')\n",
    "    plt.xlabel('polarity Category')\n",
    "    plt.ylabel('Frequency')\n",
    "    plt.tight_layout()\n",
    "    plt.grid(axis='y')\n",
    "    pdf.savefig()\n",
    "    plt.close()\n",
    "\n",
    "print(\"Two PDF files created: 'TextBlob_polarity_histogram_ins.pdf' and 'TextBlob_polarity_bar_chart_ins.pdf'\")\n",
    "print(df[['Lemmatized_Comments', 'Polarity', 'TextBlob_polarity']].head())\n",
    "\n"
   ]
  },
  {
   "cell_type": "code",
   "execution_count": 5,
   "id": "c54dbbb3-9a1b-45a8-bab1-a6bf5b1cc3f0",
   "metadata": {},
   "outputs": [
    {
     "name": "stderr",
     "output_type": "stream",
     "text": [
      "C:\\Users\\paris\\AppData\\Local\\Temp\\ipykernel_19000\\900379369.py:39: FutureWarning: \n",
      "\n",
      "Passing `palette` without assigning `hue` is deprecated and will be removed in v0.14.0. Assign the `y` variable to `hue` and set `legend=False` for the same effect.\n",
      "\n",
      "  bar_plot = sns.barplot(x='Engagement', y='TextBlob_Emotion', data=emotion_engagement, palette='viridis')\n"
     ]
    },
    {
     "name": "stdout",
     "output_type": "stream",
     "text": [
      "Plot saved successfully as 'TextBlob_emotion_plot_ins.png'.\n"
     ]
    }
   ],
   "source": [
    "# Ensure no missing values in the input column\n",
    "df = df.dropna(subset=['Lemmatized_Comments'])\n",
    "\n",
    "# Function to classify detailed emotions based on TextBlob's sentiment analysis\n",
    "def TextBlob_emotion_classification(text):\n",
    "    analysis = TextBlob(text)\n",
    "    polarity = analysis.sentiment.polarity\n",
    "    subjectivity = analysis.sentiment.subjectivity\n",
    "\n",
    "    if polarity > 0.5:\n",
    "        return 'Joyful'\n",
    "    elif polarity > 0.1:\n",
    "        if subjectivity > 0.5:\n",
    "            return 'Trust'\n",
    "        else:\n",
    "            return 'Content'\n",
    "    elif polarity < -0.1:\n",
    "        if subjectivity > 0.5:\n",
    "            return 'Disappointment'\n",
    "        else:\n",
    "            return 'Discontent'\n",
    "    elif polarity < -0.5:\n",
    "        return 'Anger'\n",
    "    else:\n",
    "        return 'Neutral'\n",
    "\n",
    "# Apply the detailed emotion classification\n",
    "df['TextBlob_Emotion'] = df['Lemmatized_Comments'].apply(TextBlob_emotion_classification)\n",
    "\n",
    "# Ensure an Engagement column exists; if not, create a dummy Engagement column for visualization\n",
    "if 'Engagement' not in df.columns:\n",
    "    df['Engagement'] = 1  # Assign a default value of 1 for all rows\n",
    "\n",
    "# Aggregate total engagement by detailed emotions\n",
    "emotion_engagement = df.groupby('TextBlob_Emotion')['Engagement'].sum().reset_index()\n",
    "\n",
    "# Creating the visualization\n",
    "plt.figure(figsize=(12, 8))\n",
    "bar_plot = sns.barplot(x='Engagement', y='TextBlob_Emotion', data=emotion_engagement, palette='viridis')\n",
    "\n",
    "\n",
    "plt.xlabel('Frequency', fontsize=14)\n",
    "plt.ylabel('Emotion', fontsize=14)\n",
    "plt.xticks(fontsize=14)\n",
    "plt.yticks(fontsize=14)\n",
    "plt.grid(True, linestyle='--', alpha=0.6)\n",
    "plt.tight_layout()\n",
    "\n",
    "# Save the plot to a file\n",
    "plt.savefig('TextBlob_emotion_plot_ins_2.png')\n",
    "plt.close()  # Close the plot display to save memory\n",
    "\n",
    "print(\"Plot saved successfully as 'TextBlob_emotion_plot_ins.png'.\")\n"
   ]
  },
  {
   "cell_type": "code",
   "execution_count": 6,
   "id": "d4f10f44-d11c-4d0f-91d3-cc7b5edbe737",
   "metadata": {},
   "outputs": [
    {
     "name": "stdout",
     "output_type": "stream",
     "text": [
      "                          Lemmatized_Comments TextBlob_polarity  \\\n",
      "0    look nourish perfect keep lips soft cool          positive   \n",
      "1                                      pretty          positive   \n",
      "2                                 labour love          positive   \n",
      "3                                         wow          positive   \n",
      "4                             oh soooo pretty          positive   \n",
      "..                                        ...               ...   \n",
      "411                            all best brand          positive   \n",
      "412                            right ? ? love          positive   \n",
      "413                                     woooo           neutral   \n",
      "414                       julep gluten free ?          positive   \n",
      "415         leapingbunnycertified crueltyfree           neutral   \n",
      "\n",
      "    TextBlob_Emotion  \n",
      "0              Trust  \n",
      "1              Trust  \n",
      "2              Trust  \n",
      "3            Neutral  \n",
      "4              Trust  \n",
      "..               ...  \n",
      "411           Joyful  \n",
      "412            Trust  \n",
      "413          Neutral  \n",
      "414            Trust  \n",
      "415          Neutral  \n",
      "\n",
      "[416 rows x 3 columns]\n"
     ]
    }
   ],
   "source": [
    "print(df[['Lemmatized_Comments', 'TextBlob_polarity', 'TextBlob_Emotion']])"
   ]
  },
  {
   "cell_type": "code",
   "execution_count": 7,
   "id": "edf9d3ae-77ce-4a33-a89f-89569a2ee357",
   "metadata": {},
   "outputs": [],
   "source": [
    "df.to_csv(r'C:\\Users\\paris\\OneDrive\\thesis\\collect data\\TextBlob_polarity_Emotion_Analysis26.csv', index=False)"
   ]
  },
  {
   "cell_type": "code",
   "execution_count": 8,
   "id": "9dd7b577-0cca-49de-9765-d838895b6a3f",
   "metadata": {},
   "outputs": [
    {
     "name": "stderr",
     "output_type": "stream",
     "text": [
      "C:\\Users\\paris\\AppData\\Local\\Temp\\ipykernel_19000\\1315623585.py:3: FutureWarning: \n",
      "\n",
      "Passing `palette` without assigning `hue` is deprecated and will be removed in v0.14.0. Assign the `y` variable to `hue` and set `legend=False` for the same effect.\n",
      "\n",
      "  sns.barplot(x='Engagement', y='TextBlob_Emotion', data=emotion_engagement, palette='viridis')\n"
     ]
    },
    {
     "name": "stdout",
     "output_type": "stream",
     "text": [
      "Bar chart saved successfully as 'TextBlob_emotion_bar_chart_iiins.png'.\n"
     ]
    }
   ],
   "source": [
    "# Bar Chart for TextBlob_Emotion\n",
    "plt.figure(figsize=(12, 8))\n",
    "sns.barplot(x='Engagement', y='TextBlob_Emotion', data=emotion_engagement, palette='viridis')\n",
    "\n",
    "\n",
    "plt.xlabel('Frequency', fontsize=14)\n",
    "plt.ylabel('Emotion', fontsize=14)\n",
    "plt.xticks(fontsize=14)\n",
    "plt.yticks(fontsize=14)\n",
    "plt.grid(True, linestyle='--', alpha=0.6)\n",
    "plt.tight_layout()\n",
    "\n",
    "# Save the plot to a file\n",
    "plt.savefig('TextBlob_emotion_bar_chart_ins_2.png')\n",
    "plt.close()\n",
    "\n",
    "print(\"Bar chart saved successfully as 'TextBlob_emotion_bar_chart_iiins.png'.\")\n"
   ]
  },
  {
   "cell_type": "code",
   "execution_count": 9,
   "id": "7498fecb-8c80-4ec4-a775-b90c3e75ab61",
   "metadata": {},
   "outputs": [
    {
     "name": "stdout",
     "output_type": "stream",
     "text": [
      "Bar chart saved successfully as 'TextBlob_emotion_bar_chart_ins.png'.\n"
     ]
    }
   ],
   "source": [
    "# Prepare data for the bar chart\n",
    "emotions = emotion_engagement['TextBlob_Emotion']\n",
    "counts = emotion_engagement['Engagement']\n",
    "\n",
    "# Create the bar chart\n",
    "plt.figure(figsize=(10, 6))\n",
    "plt.bar(emotions, counts, color='skyblue')\n",
    "plt.title('TextBlob Emotion Analysis on Instagram', fontsize=14)\n",
    "plt.xlabel('Emotions', fontsize=14)\n",
    "plt.ylabel('Frequency', fontsize=14)\n",
    "plt.xticks(rotation=45, ha='right', fontsize=14)  # Rotate x-axis labels\n",
    "plt.tight_layout()\n",
    "\n",
    "# Save the chart to a file\n",
    "plt.savefig('TextBlob_emotion_bar_chart_ins_2.png')\n",
    "plt.close()\n",
    "\n",
    "print(\"Bar chart saved successfully as 'TextBlob_emotion_bar_chart_ins.png'.\")\n"
   ]
  },
  {
   "cell_type": "code",
   "execution_count": 17,
   "id": "22d05945-f8b7-4dc4-8270-1f43c4b6eeb1",
   "metadata": {},
   "outputs": [
    {
     "name": "stdout",
     "output_type": "stream",
     "text": [
      "Pie chart saved successfully as 'TextBlob_emotion_pie_chart_Instagram.png'.\n"
     ]
    }
   ],
   "source": [
    "# Pie Chart for TextBlob_Emotion\n",
    "# Set larger font sizes for all plot elements\n",
    "plt.rcParams.update({'font.size': 14})\n",
    "\n",
    "# Custom colors\n",
    "custom_colors = {\n",
    "    'Joyful': 'gold',\n",
    "    'Trust': 'purple',\n",
    "    'Content': 'pink',\n",
    "    'Neutral': 'skyblue',\n",
    "    'Discontent': 'gray',\n",
    "    'Disappointment': '#D2B48C',  # Light brown (hex code for \"tan\")\n",
    "    'Anger': 'red'\n",
    "}\n",
    "\n",
    " #Map colors to emotions\n",
    "colors = [custom_colors[emotion] for emotion in emotion_engagement['TextBlob_Emotion']]\n",
    "\n",
    "plt.figure(figsize=(8, 8))\n",
    "plt.pie(\n",
    "    emotion_engagement['Engagement'],\n",
    "    labels=emotion_engagement['TextBlob_Emotion'],\n",
    "    #autopct='%1.1f%%',\n",
    "    #startangle=176,\n",
    "    colors= colors,  \n",
    ")\n",
    "\n",
    "# Add title\n",
    "plt.title('TextBlob Emotion Analysis on Instagram', fontsize=14)\n",
    "\n",
    "# Save the plot\n",
    "plt.savefig('TextBlob_emotion_pie_chart_Instagram_2.png')\n",
    "plt.close()\n",
    "\n",
    "print(\"Pie chart saved successfully as 'TextBlob_emotion_pie_chart_Instagram.png'.\")\n"
   ]
  },
  {
   "cell_type": "code",
   "execution_count": 11,
   "id": "97a92e99-8688-48fb-920d-3718f51ff608",
   "metadata": {},
   "outputs": [
    {
     "name": "stdout",
     "output_type": "stream",
     "text": [
      "Word cloud saved successfully as 'TextBlob_emotion_wordcloud_ins.png'.\n"
     ]
    }
   ],
   "source": [
    "# Generate text data for word cloud\n",
    "text = ' '.join(df['TextBlob_Emotion'])\n",
    "\n",
    "# Create the word cloud\n",
    "wordcloud = WordCloud(\n",
    "    width=800, height=400, background_color='white', colormap='cool'\n",
    ").generate(text)\n",
    "\n",
    "# Plot the word cloud\n",
    "plt.figure(figsize=(10, 6))\n",
    "plt.imshow(wordcloud, interpolation='bilinear')\n",
    "plt.axis('off')  # Turn off axis\n",
    "plt.title('Word Cloud: TextBlob Emotions', fontsize=16)\n",
    "\n",
    "# Save the word cloud to a file\n",
    "plt.savefig('TextBlob_emotion_wordcloud_ins.png')\n",
    "plt.close()\n",
    "\n",
    "print(\"Word cloud saved successfully as 'TextBlob_emotion_wordcloud_ins.png'.\")\n"
   ]
  },
  {
   "cell_type": "code",
   "execution_count": null,
   "id": "8647283d-2128-4bc9-8d3b-e6caa20a79f0",
   "metadata": {},
   "outputs": [],
   "source": []
  },
  {
   "cell_type": "code",
   "execution_count": 12,
   "id": "c6760452-146b-4e36-af7f-4490425d928d",
   "metadata": {},
   "outputs": [
    {
     "name": "stdout",
     "output_type": "stream",
     "text": [
      "PDF file with the heatmap of emotion analysis results has been created.\n"
     ]
    }
   ],
   "source": [
    "# Define your keywords\n",
    "keywords = [\n",
    "    'refillablecosmetics', 'earthsustainable', 'sustainablemakeup', 'waste', 'economiacircular', 'ecofriendlymakeup', 'sustainableliving', \n",
    "    'plasticfree', 'planet', 'sustainability', 'consciousconsumer', 'ecofriendlyproducts', 'fairtradeskincare', 'zerowastemakeup', 'tree conservation',\n",
    "    'ingredient', 'climate', 'health', 'ecofriendlyliving', 'ethicalcompany', 'refillable', 'refillablemakeup', 'environmental', 'sustainablelivingblog',\n",
    "    'verify', 'ethicalskincare', 'compostable', 'wastefree', 'environmentally', 'zerowasteliving', 'ecofriendlyskincare', 'tree planting', 'sustainable',\n",
    "    'ecofriendly', 'compostablelipbalm', 'organiclipbalm', 'reuse', 'refill', 'test', 'fairewholesale', 'testimony', 'preservativefree', \n",
    "    'ecomindedchildhood', 'recycledmaterials', 'sustainablebusiness', 'naturalbeauty', 'reduce', 'zerowastecosmetics', 'natural', 'refillrevolution', \n",
    "    'sustainableskincare', 'circularity', 'zero', 'fairly', 'refillablebeauty', 'gogreen', 'crueltyfreeskincare', 'planting', 'circulardesign', \n",
    "    'veganbeauty', 'plastic', 'sustainabilitymatters', 'conscious', 'organicskincare', 'eco', 'preservative', 'chemical', 'alternative', 'vegan', \n",
    "    'plant', 'gluten free', 'recycle', 'compostableskincare', 'circularbeauty', 'ethical', 'sustainablebrand', 'green', 'ecobeauty', 'sustainableclothing',\n",
    "    'packaging', 'earth', 'leapingbunnycertified', 'zerowastelifestyle', 'zerowaste', 'reusable', 'cruelty', 'sustainablebeauty', 'cleanbeauty', 'safe',\n",
    "    'environment', 'palmoilfreeskincare', 'refillableskincare', 'crueltyfree', 'fragrance', 'leap bunny', 'zerowasteskincare', 'zerowastestore', 'wasted',\n",
    "    'none plastic', 'sustainablelivingblogger', 'harmful', 'sustainablepackaging'\n",
    "]\n",
    "\n",
    "# Initialize a dictionary to store results\n",
    "keyword_emotions = {keyword: [] for keyword in keywords}\n",
    "\n",
    "# Function to find keywords in a specific column and analyze emotions\n",
    "def analyze_caption_emotions(caption):\n",
    "    for keyword in keywords:\n",
    "        if keyword in caption.lower():  # Check if the keyword is in the caption\n",
    "            text_object = NRCLex(caption)\n",
    "            emotion_dict = text_object.raw_emotion_scores\n",
    "            if emotion_dict:  # If emotions are found, add them to the dictionary\n",
    "                keyword_emotions[keyword].append(emotion_dict)\n",
    "\n",
    "# Apply the function to input column\n",
    "df['Lemmatized_Comments'].apply(analyze_caption_emotions)\n",
    "\n",
    "# Prepare data for visualization\n",
    "data_for_visualization = {\n",
    "    keyword: pd.DataFrame(emotions).mean().to_dict()\n",
    "    for keyword, emotions in keyword_emotions.items() if emotions\n",
    "}\n",
    "\n",
    "# Convert to DataFrame for easier manipulation and visualization\n",
    "emotion_df = pd.DataFrame(data_for_visualization).fillna(0).T  # Transpose to get keywords as rows\n",
    "emotion_df.reset_index(inplace=True)\n",
    "emotion_df.rename(columns={'index': 'Keyword'}, inplace=True)\n",
    "\n",
    "# Plotting heatmap for all keywords\n",
    "with PdfPages('emotion_heatmap_results_instagram.pdf') as pdf:\n",
    "    plt.figure(figsize=(15, 12))\n",
    "    sns.heatmap(\n",
    "        emotion_df.iloc[:, 1:],  # Exclude keyword column for heatmap\n",
    "        annot=True, fmt=\".2f\", cmap='coolwarm', \n",
    "        xticklabels=emotion_df.columns[1:], \n",
    "        yticklabels=emotion_df['Keyword']\n",
    "    )\n",
    "    plt.xlabel('Emotions', fontsize=14)\n",
    "    plt.ylabel('Keywords', fontsize=14)\n",
    "    plt.tight_layout()\n",
    "    pdf.savefig()  # Save the heatmap to a PDF file\n",
    "    plt.close()\n",
    "\n",
    "print(\"PDF file with the heatmap of emotion analysis results has been created.\")\n"
   ]
  },
  {
   "cell_type": "code",
   "execution_count": null,
   "id": "2618ab81-ad09-46ae-ac1e-e52a2b3463c7",
   "metadata": {},
   "outputs": [],
   "source": []
  }
 ],
 "metadata": {
  "kernelspec": {
   "display_name": "Python 3 (ipykernel)",
   "language": "python",
   "name": "python3"
  },
  "language_info": {
   "codemirror_mode": {
    "name": "ipython",
    "version": 3
   },
   "file_extension": ".py",
   "mimetype": "text/x-python",
   "name": "python",
   "nbconvert_exporter": "python",
   "pygments_lexer": "ipython3",
   "version": "3.12.4"
  }
 },
 "nbformat": 4,
 "nbformat_minor": 5
}
